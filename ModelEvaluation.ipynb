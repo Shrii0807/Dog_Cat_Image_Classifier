{
 "cells": [
  {
   "cell_type": "code",
   "execution_count": 3,
   "id": "db4f0ae9-52fc-4546-97fe-6b5a2122b319",
   "metadata": {},
   "outputs": [
    {
     "name": "stdout",
     "output_type": "stream",
     "text": [
      "Found 2023 images belonging to 2 classes.\n"
     ]
    },
    {
     "name": "stderr",
     "output_type": "stream",
     "text": [
      "C:\\Users\\LENOVO\\AppData\\Local\\Programs\\Python\\Python312\\Lib\\site-packages\\keras\\src\\saving\\saving_lib.py:713: UserWarning: Skipping variable loading for optimizer 'rmsprop', because it has 10 variables whereas the saved optimizer has 18 variables. \n",
      "  saveable.load_own_variables(weights_store.get(inner_path))\n"
     ]
    },
    {
     "name": "stdout",
     "output_type": "stream",
     "text": [
      "\u001b[1m 3/64\u001b[0m \u001b[37m━━━━━━━━━━━━━━━━━━━━\u001b[0m \u001b[1m1s\u001b[0m 30ms/step "
     ]
    },
    {
     "name": "stderr",
     "output_type": "stream",
     "text": [
      "C:\\Users\\LENOVO\\AppData\\Local\\Programs\\Python\\Python312\\Lib\\site-packages\\keras\\src\\trainers\\data_adapters\\py_dataset_adapter.py:122: UserWarning: Your `PyDataset` class should call `super().__init__(**kwargs)` in its constructor. `**kwargs` can include `workers`, `use_multiprocessing`, `max_queue_size`. Do not pass these arguments to `fit()`, as they will be ignored.\n",
      "  self._warn_if_super_not_called()\n"
     ]
    },
    {
     "name": "stdout",
     "output_type": "stream",
     "text": [
      "\u001b[1m64/64\u001b[0m \u001b[32m━━━━━━━━━━━━━━━━━━━━\u001b[0m\u001b[37m\u001b[0m \u001b[1m3s\u001b[0m 44ms/step\n",
      "Accuracy: 0.7830\n",
      "Precision: 0.8640\n",
      "Recall: 0.6719\n",
      "F1 Score: 0.7560\n"
     ]
    }
   ],
   "source": [
    "# Import necessary libraries\n",
    "import numpy as np\n",
    "from tensorflow.keras.models import load_model\n",
    "from tensorflow.keras.preprocessing import image\n",
    "from sklearn.metrics import accuracy_score, precision_score, recall_score, f1_score\n",
    "from tensorflow.keras.preprocessing.image import ImageDataGenerator\n",
    "import os\n",
    "\n",
    "# Load the trained model\n",
    "model = load_model('cat_dog_model.keras')\n",
    "\n",
    "# Set up the ImageDataGenerator for preprocessing the test data\n",
    "test_datagen = ImageDataGenerator(rescale=1./255)\n",
    "\n",
    "# Define the path to your test dataset\n",
    "test_data_dir = 'test_set'\n",
    "\n",
    "# Load the test data using the ImageDataGenerator flow_from_directory method\n",
    "test_set = test_datagen.flow_from_directory(\n",
    "    test_data_dir,\n",
    "    target_size=(64, 64),\n",
    "    batch_size=32,\n",
    "    class_mode='binary',  # Since it's a binary classification problem (cat vs dog)\n",
    "    shuffle=False  # We don't want to shuffle the test data for proper evaluation\n",
    ")\n",
    "\n",
    "# Get the true labels for the test set\n",
    "true_labels = test_set.classes  # The true labels from the test set\n",
    "\n",
    "# Predict using the model\n",
    "predictions = model.predict(test_set, verbose=1)  # Make predictions on the test data\n",
    "\n",
    "# Convert probabilities to binary outcomes (0 for cat, 1 for dog)\n",
    "predictions_binary = (predictions > 0.5).astype(int).flatten()  # Convert to 0 or 1\n",
    "\n",
    "# Compute Accuracy, Precision, Recall, and F1-score\n",
    "accuracy = accuracy_score(true_labels, predictions_binary)\n",
    "precision = precision_score(true_labels, predictions_binary)\n",
    "recall = recall_score(true_labels, predictions_binary)\n",
    "f1 = f1_score(true_labels, predictions_binary)\n",
    "\n",
    "# Print the evaluation metrics\n",
    "print(f\"Accuracy: {accuracy:.4f}\")\n",
    "print(f\"Precision: {precision:.4f}\")\n",
    "print(f\"Recall: {recall:.4f}\")\n",
    "print(f\"F1 Score: {f1:.4f}\")"
   ]
  },
  {
   "cell_type": "code",
   "execution_count": null,
   "id": "ad647784-7b3b-4ae7-91eb-6577c840f4a3",
   "metadata": {},
   "outputs": [],
   "source": []
  }
 ],
 "metadata": {
  "kernelspec": {
   "display_name": "Python 3 (ipykernel)",
   "language": "python",
   "name": "python3"
  },
  "language_info": {
   "codemirror_mode": {
    "name": "ipython",
    "version": 3
   },
   "file_extension": ".py",
   "mimetype": "text/x-python",
   "name": "python",
   "nbconvert_exporter": "python",
   "pygments_lexer": "ipython3",
   "version": "3.12.5"
  }
 },
 "nbformat": 4,
 "nbformat_minor": 5
}
